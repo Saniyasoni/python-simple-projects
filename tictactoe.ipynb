{
 "cells": [
  {
   "cell_type": "code",
   "execution_count": 1,
   "id": "94e95afa-dc3b-4958-985e-18da0823a7c5",
   "metadata": {},
   "outputs": [],
   "source": [
    "from IPython.display import clear_output\n",
    "\n",
    "def display_board(board):\n",
    "    clear_output() #it will not let repeat output another version on the board\n",
    "    print(board[7]+'|'+board[8]+'|'+board[9])\n",
    "    print(board[4]+'|'+board[5]+'|'+board[6])\n",
    "    print(board[1]+'|'+board[2]+'|'+board[3])\n",
    "    "
   ]
  },
  {
   "cell_type": "code",
   "execution_count": 2,
   "id": "6bac72f1-000b-4f35-9e1a-3f097e2b3681",
   "metadata": {},
   "outputs": [
    {
     "name": "stdout",
     "output_type": "stream",
     "text": [
      "X|O|X\n",
      "O|X|O\n",
      "X|O|X\n"
     ]
    }
   ],
   "source": [
    "test_board =['#','X','O','X','O','X','O','X','O','X']\n",
    "display_board(test_board)"
   ]
  },
  {
   "cell_type": "code",
   "execution_count": 3,
   "id": "d64c8a89-8e02-48ce-a80f-57e15e556290",
   "metadata": {},
   "outputs": [],
   "source": [
    "def player_input():\n",
    "    \n",
    "    '''\n",
    "    OUTPUT = (player 1marker,player 2 marker)\n",
    "    '''\n",
    "\n",
    "    marker=''\n",
    "    while marker !='X' and marker !='O':\n",
    "        marker = input('Player1: Choose X or O:').upper()\n",
    "        \n",
    "        if marker=='X':\n",
    "            \n",
    "            return('X','O')\n",
    "        else:\n",
    "            return('O','X')"
   ]
  },
  {
   "cell_type": "code",
   "execution_count": 4,
   "id": "c45ad53f-2bbb-46b0-a33a-9fd36ab5d825",
   "metadata": {},
   "outputs": [
    {
     "name": "stdin",
     "output_type": "stream",
     "text": [
      "Player1: Choose X or O: X\n"
     ]
    }
   ],
   "source": [
    "player1_marker,player2_marker=player_input()"
   ]
  },
  {
   "cell_type": "code",
   "execution_count": 5,
   "id": "f8d0a845-c4bd-482e-8151-8e2346e17cd8",
   "metadata": {},
   "outputs": [
    {
     "data": {
      "text/plain": [
       "'X'"
      ]
     },
     "execution_count": 5,
     "metadata": {},
     "output_type": "execute_result"
    }
   ],
   "source": [
    "player1_marker"
   ]
  },
  {
   "cell_type": "code",
   "execution_count": 6,
   "id": "31126e2d-9744-4004-8823-91dcdae3555d",
   "metadata": {},
   "outputs": [],
   "source": [
    "def place_marker(board,marker,position):\n",
    "    board[position] = marker"
   ]
  },
  {
   "cell_type": "code",
   "execution_count": 7,
   "id": "96372eb0-5574-4e55-9de8-cbcec272053b",
   "metadata": {},
   "outputs": [
    {
     "data": {
      "text/plain": [
       "['#', 'X', 'O', 'X', 'O', 'X', 'O', 'X', 'O', 'X']"
      ]
     },
     "execution_count": 7,
     "metadata": {},
     "output_type": "execute_result"
    }
   ],
   "source": [
    "test_board"
   ]
  },
  {
   "cell_type": "code",
   "execution_count": 8,
   "id": "2a55285f-2e33-4dcf-8444-e24df2978bc1",
   "metadata": {},
   "outputs": [
    {
     "name": "stdout",
     "output_type": "stream",
     "text": [
      "X|$|X\n",
      "O|X|O\n",
      "X|O|X\n"
     ]
    }
   ],
   "source": [
    "place_marker(test_board,'$',8)\n",
    "display_board(test_board)"
   ]
  },
  {
   "cell_type": "code",
   "execution_count": 9,
   "id": "71f3d167-eb9d-453a-966b-2a9e17f247f0",
   "metadata": {},
   "outputs": [],
   "source": [
    "#step 4 WAP that takes in board and a mark (X or O) and then checks to \n",
    "#see if thar mark has won:"
   ]
  },
  {
   "cell_type": "code",
   "execution_count": 10,
   "id": "b5324c20-27ee-4e48-bf10-aeebf7003461",
   "metadata": {},
   "outputs": [],
   "source": [
    "def win_check(board, mark):\n",
    "    #win tic tac toe?\n",
    "    #all rows, and check to see if they all share the same marker?\n",
    "   return((board[7] == mark and board[8]==mark and board[9]==mark)or\n",
    "    (board[4] == mark and board[5] == mark and board[6] == mark) or # across the middle\n",
    "    (board[1] == mark and board[2] == mark and board[3] == mark) or # across the bottom\n",
    "    (board[7] == mark and board[4] == mark and board[1] == mark) or # down the middle\n",
    "    (board[8] == mark and board[5] == mark and board[2] == mark) or # down the middle\n",
    "    (board[9] == mark and board[6] == mark and board[3] == mark) or # down the right side\n",
    "    (board[7] == mark and board[5] == mark and board[3] == mark) or # diagonal\n",
    "    (board[9] == mark and board[5] == mark and board[1] == mark)) # diagonal\n",
    "\n",
    "    #all columns, check to see if marker matches\n",
    "    #2diagnols, check to see match "
   ]
  },
  {
   "cell_type": "code",
   "execution_count": 11,
   "id": "1c3faf5f-1d5c-4166-a3f7-4929648bbeab",
   "metadata": {},
   "outputs": [
    {
     "name": "stdout",
     "output_type": "stream",
     "text": [
      "X|$|X\n",
      "O|X|O\n",
      "X|O|X\n"
     ]
    },
    {
     "data": {
      "text/plain": [
       "True"
      ]
     },
     "execution_count": 11,
     "metadata": {},
     "output_type": "execute_result"
    }
   ],
   "source": [
    "display_board(test_board)\n",
    "win_check(test_board,'X')"
   ]
  },
  {
   "cell_type": "code",
   "execution_count": 12,
   "id": "d14ae6dd-1f8a-4342-b3ae-b4f5d8ce28a9",
   "metadata": {},
   "outputs": [],
   "source": [
    "#step 5 use random module to randomly decide which player goes first\n",
    "import random\n",
    "def choose_first():\n",
    "    \n",
    "    flip=random.randint(0,1)\n",
    "    \n",
    "    if flip==0:\n",
    "        return 'Player 1'\n",
    "    else:\n",
    "        return'Player 2'"
   ]
  },
  {
   "cell_type": "code",
   "execution_count": 13,
   "id": "5337cbaf-7bde-473c-9dd0-6f421b86bda6",
   "metadata": {},
   "outputs": [],
   "source": [
    "#step 6 WAP that returns booleans indicating whether a space on boards is freely available\n",
    "\n",
    "def space_check(board, position):\n",
    "    return board[position]==' '"
   ]
  },
  {
   "cell_type": "code",
   "execution_count": 14,
   "id": "fa8f7e70-f55a-40bd-b8ae-3f9727a474a8",
   "metadata": {},
   "outputs": [],
   "source": [
    "#step 7 check if board is full and returns A booleans value, true if full & false otherwise\n",
    "def full_board_check(board):\n",
    "    for i in range(1,10):\n",
    "        if space_check(board,i):\n",
    "            return False\n",
    "    #board is full if we return true\n",
    "    return True"
   ]
  },
  {
   "cell_type": "code",
   "execution_count": 15,
   "id": "bb9da8f0-29a1-4736-876b-22bc1ca0d8fa",
   "metadata": {},
   "outputs": [],
   "source": [
    "#step 8 Write a function that asks for a player's next position (as a number 1-9) and then uses the function from step 6 to check if its a free position. \n",
    "#If it is, then return the position for later use.\n"
   ]
  },
  {
   "cell_type": "code",
   "execution_count": 16,
   "id": "22ceac61-41eb-4710-b3ba-439aa74d0ad8",
   "metadata": {},
   "outputs": [],
   "source": [
    "def player_choice(board):\n",
    "    position =0\n",
    "    while position not in [1,2,3,4,5,6,7,8,9] or not space_check(board,position):\n",
    "        position= int(input('Choosea position:(1-9)'))\n",
    "\n",
    "    return position\n",
    "    "
   ]
  },
  {
   "cell_type": "code",
   "execution_count": 17,
   "id": "87f0930a-d54b-449e-ab74-9ddfb8bc1d41",
   "metadata": {},
   "outputs": [],
   "source": [
    "#Step 9: Write a function that asks the player if they want to play again and returns a boolean True \n",
    "#if they do want to play again."
   ]
  },
  {
   "cell_type": "code",
   "execution_count": 18,
   "id": "14c32ad6-e372-4d33-931f-00e0cef51fea",
   "metadata": {},
   "outputs": [],
   "source": [
    "def replay():\n",
    "\n",
    "    choice = input(\"Play again? Enter yes or No\")\n",
    "    return choice== 'Yes'"
   ]
  },
  {
   "cell_type": "code",
   "execution_count": 21,
   "id": "384063b6-798d-41cb-8322-d0ddde674f1a",
   "metadata": {},
   "outputs": [],
   "source": [
    "#Step 10: Here comes the hard part! Use while loops and \n",
    "#the functions you've made to run the game!"
   ]
  },
  {
   "cell_type": "code",
   "execution_count": 22,
   "id": "7cccddb3-ba10-42fd-8833-84341ff3e6a9",
   "metadata": {},
   "outputs": [
    {
     "name": "stdout",
     "output_type": "stream",
     "text": [
      "O| |X\n",
      " |X|O\n",
      "X|O|X\n",
      "Congratulations! You have won the game!\n"
     ]
    },
    {
     "name": "stdin",
     "output_type": "stream",
     "text": [
      "Play again? Enter yes or No No\n"
     ]
    }
   ],
   "source": [
    "print('Welcome to Tic Tac Toe!')\n",
    "\n",
    "while True:\n",
    "    # Reset the board\n",
    "    theBoard = [' '] * 10\n",
    "    player1_marker, player2_marker = player_input()\n",
    "    turn = choose_first()\n",
    "    print(turn + ' will go first.')\n",
    "    \n",
    "    play_game = input('Are you ready to play? Enter Yes or No.')\n",
    "    \n",
    "    if play_game.lower()[0] == 'y':\n",
    "        game_on = True\n",
    "    else:\n",
    "        game_on = False\n",
    "\n",
    "    while game_on:\n",
    "        if turn == 'Player 1':\n",
    "            # Player1's turn.\n",
    "            \n",
    "            display_board(theBoard)\n",
    "            position = player_choice(theBoard)\n",
    "            place_marker(theBoard, player1_marker, position)\n",
    "\n",
    "            if win_check(theBoard, player1_marker):\n",
    "                display_board(theBoard)\n",
    "                print('Congratulations! You have won the game!')\n",
    "                game_on = False\n",
    "            else:\n",
    "                if full_board_check(theBoard):\n",
    "                    display_board(theBoard)\n",
    "                    print('The game is a draw!')\n",
    "                    break\n",
    "                else:\n",
    "                    turn = 'Player 2'\n",
    "\n",
    "        else:\n",
    "            # Player2's turn.\n",
    "            \n",
    "            display_board(theBoard)\n",
    "            position = player_choice(theBoard)\n",
    "            place_marker(theBoard, player2_marker, position)\n",
    "\n",
    "            if win_check(theBoard, player2_marker):\n",
    "                display_board(theBoard)\n",
    "                print('Player 2 has won!')\n",
    "                game_on = False\n",
    "            else:\n",
    "                if full_board_check(theBoard):\n",
    "                    display_board(theBoard)\n",
    "                    print('The game is a draw!')\n",
    "                    break\n",
    "                else:\n",
    "                    turn = 'Player 1'\n",
    "\n",
    "    if not replay():\n",
    "        break"
   ]
  },
  {
   "cell_type": "code",
   "execution_count": null,
   "id": "5a296d48-40c8-4bf9-b589-bc3b0e6eea82",
   "metadata": {},
   "outputs": [],
   "source": []
  }
 ],
 "metadata": {
  "kernelspec": {
   "display_name": "Python 3 (ipykernel)",
   "language": "python",
   "name": "python3"
  },
  "language_info": {
   "codemirror_mode": {
    "name": "ipython",
    "version": 3
   },
   "file_extension": ".py",
   "mimetype": "text/x-python",
   "name": "python",
   "nbconvert_exporter": "python",
   "pygments_lexer": "ipython3",
   "version": "3.11.7"
  }
 },
 "nbformat": 4,
 "nbformat_minor": 5
}
